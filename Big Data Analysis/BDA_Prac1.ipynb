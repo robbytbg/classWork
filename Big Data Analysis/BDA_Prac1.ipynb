{
  "nbformat": 4,
  "nbformat_minor": 0,
  "metadata": {
    "colab": {
      "provenance": [],
      "authorship_tag": "ABX9TyNpE26ict5B5n8gEM4+/5yL",
      "include_colab_link": true
    },
    "kernelspec": {
      "name": "ir",
      "display_name": "R"
    },
    "language_info": {
      "name": "R"
    }
  },
  "cells": [
    {
      "cell_type": "markdown",
      "metadata": {
        "id": "view-in-github",
        "colab_type": "text"
      },
      "source": [
        "<a href=\"https://colab.research.google.com/github/robbytbg/classWork/blob/main/BDA_Prac1.ipynb\" target=\"_parent\"><img src=\"https://colab.research.google.com/assets/colab-badge.svg\" alt=\"Open In Colab\"/></a>"
      ]
    },
    {
      "cell_type": "code",
      "execution_count": null,
      "metadata": {
        "id": "CmUCKf15SA7S"
      },
      "outputs": [],
      "source": [
        "read.csv('/content/Prac1.csv')"
      ]
    },
    {
      "cell_type": "code",
      "source": [
        "library(tidyverse)\n",
        "read_csv('/content/Prac1.csv')"
      ],
      "metadata": {
        "id": "xxux3G_PTjqz"
      },
      "execution_count": null,
      "outputs": []
    },
    {
      "cell_type": "code",
      "source": [
        "library(data.table)\n",
        "fread('/content/Prac1.csv')"
      ],
      "metadata": {
        "id": "MiCSmuShUGXo"
      },
      "execution_count": null,
      "outputs": []
    },
    {
      "cell_type": "code",
      "source": [
        "print('read.csv:')\n",
        "system.time(read.csv('/content/Prac1.csv'))\n",
        "print('read_csv:')\n",
        "system.time(read_csv('/content/Prac1.csv',show_col_types = FALSE))\n",
        "print('fread():')\n",
        "system.time(fread('/content/Prac1.csv'))"
      ],
      "metadata": {
        "colab": {
          "base_uri": "https://localhost:8080/",
          "height": 173
        },
        "id": "SMFlG_1YUSWj",
        "outputId": "1d53dbba-b58c-41c6-cbb3-4a3bcf2ca899"
      },
      "execution_count": null,
      "outputs": [
        {
          "output_type": "stream",
          "name": "stdout",
          "text": [
            "[1] \"read.csv:\"\n"
          ]
        },
        {
          "output_type": "display_data",
          "data": {
            "text/plain": [
              "   user  system elapsed \n",
              "  0.007   0.000   0.007 "
            ]
          },
          "metadata": {}
        },
        {
          "output_type": "stream",
          "name": "stdout",
          "text": [
            "[1] \"read_csv:\"\n"
          ]
        },
        {
          "output_type": "display_data",
          "data": {
            "text/plain": [
              "   user  system elapsed \n",
              "  0.006   0.001   0.008 "
            ]
          },
          "metadata": {}
        },
        {
          "output_type": "stream",
          "name": "stdout",
          "text": [
            "[1] \"fread():\"\n"
          ]
        },
        {
          "output_type": "display_data",
          "data": {
            "text/plain": [
              "   user  system elapsed \n",
              "  0.001   0.000   0.001 "
            ]
          },
          "metadata": {}
        }
      ]
    },
    {
      "cell_type": "markdown",
      "source": [
        "We can see that the read.csv() function takes the longest time to read in the data, followed by read_csv(). The fread() function takes the shortest time to read in the data.\n",
        "\n",
        "There are pros and cons for each of the functions depending on your needs. For speed, the fread() function is quickest to get data read into your session. Analysts that work within the tidyverse suite of packages will find the read_csv() function advantageous because it imports and stores tables as tibbles. I’ve rarely had an issue with the read.csv() function, and it’s considered the standard function for getting data into R.\n",
        "\n",
        "Depending on your needs and the size of the data you’re working with, consider implementing these functions for reading in data into R in the future.\n",
        "\n"
      ],
      "metadata": {
        "id": "hdz9W4aHXDPZ"
      }
    },
    {
      "cell_type": "code",
      "source": [
        "print('read.csv:')\n",
        "object.size(read.csv('/content/Prac1.csv'))"
      ],
      "metadata": {
        "colab": {
          "base_uri": "https://localhost:8080/",
          "height": 52
        },
        "id": "WFIt-J-dBaZX",
        "outputId": "25726502-eace-4bc7-b65c-b46e9a2f9783"
      },
      "execution_count": null,
      "outputs": [
        {
          "output_type": "stream",
          "name": "stdout",
          "text": [
            "[1] \"read.csv:\"\n"
          ]
        },
        {
          "output_type": "display_data",
          "data": {
            "text/plain": [
              "132320 bytes"
            ]
          },
          "metadata": {}
        }
      ]
    },
    {
      "cell_type": "code",
      "source": [
        "if (!require(bigmemory)) install.packages(\"bigmemory\")"
      ],
      "metadata": {
        "colab": {
          "base_uri": "https://localhost:8080/"
        },
        "id": "q97h4LM9MHd3",
        "outputId": "73628ab6-ae8a-47b4-b013-7f28148d1149"
      },
      "execution_count": null,
      "outputs": [
        {
          "output_type": "stream",
          "name": "stderr",
          "text": [
            "Loading required package: bigmemory\n",
            "\n",
            "Warning message in library(package, lib.loc = lib.loc, character.only = TRUE, logical.return = TRUE, :\n",
            "“there is no package called ‘bigmemory’”\n",
            "Installing package into ‘/usr/local/lib/R/site-library’\n",
            "(as ‘lib’ is unspecified)\n",
            "\n",
            "also installing the dependencies ‘bigmemory.sri’, ‘Rcpp’, ‘BH’\n",
            "\n",
            "\n"
          ]
        }
      ]
    },
    {
      "cell_type": "code",
      "source": [
        "library(bigmemory)"
      ],
      "metadata": {
        "id": "D0yd7a7jML20"
      },
      "execution_count": null,
      "outputs": []
    },
    {
      "cell_type": "code",
      "source": [
        "data <- read.big.matrix(\"/content/Prac1b.csv\")\n",
        "head(data)"
      ],
      "metadata": {
        "colab": {
          "base_uri": "https://localhost:8080/",
          "height": 327
        },
        "id": "GXHvhMPbM2Ng",
        "outputId": "e4f74582-2fec-440d-c9ba-c4bb11be2c75"
      },
      "execution_count": null,
      "outputs": [
        {
          "output_type": "stream",
          "name": "stderr",
          "text": [
            "Warning message in na.omit(as.integer(firstLineVals)):\n",
            "“NAs introduced by coercion”\n",
            "Warning message in na.omit(as.double(firstLineVals)):\n",
            "“NAs introduced by coercion”\n",
            "Warning message in read.big.matrix(\"/content/Prac1b.csv\"):\n",
            "“Because type was not specified, we chose double based on the first line of data.”\n"
          ]
        },
        {
          "output_type": "display_data",
          "data": {
            "text/html": [
              "<table class=\"dataframe\">\n",
              "<caption>A matrix: 6 × 20 of type dbl</caption>\n",
              "<tbody>\n",
              "\t<tr><td>NA</td><td>  NA</td><td>  NA</td><td>NA</td><td>NA</td><td> NA</td><td> NA</td><td>NA</td><td>   NA</td><td>  NA</td><td> NA</td><td> NA</td><td>  NA</td><td>NA</td><td>NA</td><td> NA</td><td>   NA</td><td>NA</td><td>NA</td><td>NA</td></tr>\n",
              "\t<tr><td> 1</td><td>2021</td><td>2021</td><td>NA</td><td> 1</td><td> 74</td><td>168</td><td> 1</td><td> 1.20</td><td> 6.0</td><td>0.5</td><td>0.5</td><td>0.00</td><td> 0</td><td>NA</td><td>0.3</td><td> 7.30</td><td> 2</td><td> 1</td><td> 0</td></tr>\n",
              "\t<tr><td> 2</td><td>2021</td><td>2021</td><td>NA</td><td> 1</td><td>116</td><td>265</td><td> 2</td><td>13.69</td><td>42.0</td><td>0.5</td><td>0.5</td><td>0.00</td><td> 0</td><td>NA</td><td>0.3</td><td>43.30</td><td> 2</td><td> 1</td><td> 0</td></tr>\n",
              "\t<tr><td> 2</td><td>2021</td><td>2021</td><td>NA</td><td> 1</td><td> 97</td><td> 33</td><td> 1</td><td> 0.95</td><td> 6.5</td><td>0.5</td><td>0.5</td><td>2.34</td><td> 0</td><td>NA</td><td>0.3</td><td>10.14</td><td> 1</td><td> 1</td><td> 0</td></tr>\n",
              "\t<tr><td> 2</td><td>2021</td><td>2021</td><td>NA</td><td> 1</td><td> 74</td><td> 42</td><td> 1</td><td> 1.24</td><td> 6.5</td><td>0.5</td><td>0.5</td><td>0.00</td><td> 0</td><td>NA</td><td>0.3</td><td> 7.80</td><td> 2</td><td> 1</td><td> 0</td></tr>\n",
              "\t<tr><td> 2</td><td>2021</td><td>2021</td><td>NA</td><td> 1</td><td> 42</td><td>244</td><td> 1</td><td> 1.10</td><td> 7.0</td><td>0.5</td><td>0.5</td><td>0.00</td><td> 0</td><td>NA</td><td>0.3</td><td> 8.30</td><td> 2</td><td> 1</td><td> 0</td></tr>\n",
              "</tbody>\n",
              "</table>\n"
            ],
            "text/markdown": "\nA matrix: 6 × 20 of type dbl\n\n| NA |   NA |   NA | NA | NA |  NA |  NA | NA |    NA |   NA |  NA |  NA |   NA | NA | NA |  NA |    NA | NA | NA | NA |\n|  1 | 2021 | 2021 | NA |  1 |  74 | 168 |  1 |  1.20 |  6.0 | 0.5 | 0.5 | 0.00 |  0 | NA | 0.3 |  7.30 |  2 |  1 |  0 |\n|  2 | 2021 | 2021 | NA |  1 | 116 | 265 |  2 | 13.69 | 42.0 | 0.5 | 0.5 | 0.00 |  0 | NA | 0.3 | 43.30 |  2 |  1 |  0 |\n|  2 | 2021 | 2021 | NA |  1 |  97 |  33 |  1 |  0.95 |  6.5 | 0.5 | 0.5 | 2.34 |  0 | NA | 0.3 | 10.14 |  1 |  1 |  0 |\n|  2 | 2021 | 2021 | NA |  1 |  74 |  42 |  1 |  1.24 |  6.5 | 0.5 | 0.5 | 0.00 |  0 | NA | 0.3 |  7.80 |  2 |  1 |  0 |\n|  2 | 2021 | 2021 | NA |  1 |  42 | 244 |  1 |  1.10 |  7.0 | 0.5 | 0.5 | 0.00 |  0 | NA | 0.3 |  8.30 |  2 |  1 |  0 |\n\n",
            "text/latex": "A matrix: 6 × 20 of type dbl\n\\begin{tabular}{llllllllllllllllllll}\n\t NA &   NA &   NA & NA & NA &  NA &  NA & NA &    NA &   NA &  NA &  NA &   NA & NA & NA &  NA &    NA & NA & NA & NA\\\\\n\t  1 & 2021 & 2021 & NA &  1 &  74 & 168 &  1 &  1.20 &  6.0 & 0.5 & 0.5 & 0.00 &  0 & NA & 0.3 &  7.30 &  2 &  1 &  0\\\\\n\t  2 & 2021 & 2021 & NA &  1 & 116 & 265 &  2 & 13.69 & 42.0 & 0.5 & 0.5 & 0.00 &  0 & NA & 0.3 & 43.30 &  2 &  1 &  0\\\\\n\t  2 & 2021 & 2021 & NA &  1 &  97 &  33 &  1 &  0.95 &  6.5 & 0.5 & 0.5 & 2.34 &  0 & NA & 0.3 & 10.14 &  1 &  1 &  0\\\\\n\t  2 & 2021 & 2021 & NA &  1 &  74 &  42 &  1 &  1.24 &  6.5 & 0.5 & 0.5 & 0.00 &  0 & NA & 0.3 &  7.80 &  2 &  1 &  0\\\\\n\t  2 & 2021 & 2021 & NA &  1 &  42 & 244 &  1 &  1.10 &  7.0 & 0.5 & 0.5 & 0.00 &  0 & NA & 0.3 &  8.30 &  2 &  1 &  0\\\\\n\\end{tabular}\n",
            "text/plain": [
              "     [,1] [,2] [,3] [,4] [,5] [,6] [,7] [,8] [,9]  [,10] [,11] [,12] [,13]\n",
              "[1,] NA     NA   NA NA   NA    NA   NA  NA      NA   NA   NA    NA     NA \n",
              "[2,]  1   2021 2021 NA    1    74  168   1    1.20  6.0  0.5   0.5   0.00 \n",
              "[3,]  2   2021 2021 NA    1   116  265   2   13.69 42.0  0.5   0.5   0.00 \n",
              "[4,]  2   2021 2021 NA    1    97   33   1    0.95  6.5  0.5   0.5   2.34 \n",
              "[5,]  2   2021 2021 NA    1    74   42   1    1.24  6.5  0.5   0.5   0.00 \n",
              "[6,]  2   2021 2021 NA    1    42  244   1    1.10  7.0  0.5   0.5   0.00 \n",
              "     [,14] [,15] [,16] [,17] [,18] [,19] [,20]\n",
              "[1,] NA    NA     NA      NA NA    NA    NA   \n",
              "[2,]  0    NA    0.3    7.30  2     1     0   \n",
              "[3,]  0    NA    0.3   43.30  2     1     0   \n",
              "[4,]  0    NA    0.3   10.14  1     1     0   \n",
              "[5,]  0    NA    0.3    7.80  2     1     0   \n",
              "[6,]  0    NA    0.3    8.30  2     1     0   "
            ]
          },
          "metadata": {}
        }
      ]
    },
    {
      "cell_type": "code",
      "source": [
        "read_numeric_big_matrix <- function(file_path) {\n",
        "  # Identify numeric columns by checking the first line\n",
        "  header_row <- read.csv(file_path, header = TRUE, nrows = 1)\n",
        "  numeric_columns <- which(sapply(header_row, is.numeric))\n",
        "\n",
        "  # Read the data and select only numeric columns\n",
        "  data <- read.big.matrix(file_path)\n",
        "  data <- data[, numeric_columns]\n",
        "\n",
        "  return(data)\n",
        "}\n",
        "file_path <- \"/content/Prac1b.csv\"\n",
        "data <- read_numeric_big_matrix(file_path)\n",
        "head(data)"
      ],
      "metadata": {
        "colab": {
          "base_uri": "https://localhost:8080/",
          "height": 327
        },
        "id": "tOwRau9neHo-",
        "outputId": "e1ea131d-bcb1-43cb-804e-90b2ee486552"
      },
      "execution_count": null,
      "outputs": [
        {
          "output_type": "stream",
          "name": "stderr",
          "text": [
            "Warning message in na.omit(as.integer(firstLineVals)):\n",
            "“NAs introduced by coercion”\n",
            "Warning message in na.omit(as.double(firstLineVals)):\n",
            "“NAs introduced by coercion”\n",
            "Warning message in read.big.matrix(file_path):\n",
            "“Because type was not specified, we chose double based on the first line of data.”\n"
          ]
        },
        {
          "output_type": "display_data",
          "data": {
            "text/html": [
              "<table class=\"dataframe\">\n",
              "<caption>A matrix: 6 × 16 of type dbl</caption>\n",
              "<tbody>\n",
              "\t<tr><td>NA</td><td>NA</td><td> NA</td><td> NA</td><td>NA</td><td>   NA</td><td>  NA</td><td> NA</td><td> NA</td><td>  NA</td><td>NA</td><td> NA</td><td>   NA</td><td>NA</td><td>NA</td><td>NA</td></tr>\n",
              "\t<tr><td> 1</td><td> 1</td><td> 74</td><td>168</td><td> 1</td><td> 1.20</td><td> 6.0</td><td>0.5</td><td>0.5</td><td>0.00</td><td> 0</td><td>0.3</td><td> 7.30</td><td> 2</td><td> 1</td><td> 0</td></tr>\n",
              "\t<tr><td> 2</td><td> 1</td><td>116</td><td>265</td><td> 2</td><td>13.69</td><td>42.0</td><td>0.5</td><td>0.5</td><td>0.00</td><td> 0</td><td>0.3</td><td>43.30</td><td> 2</td><td> 1</td><td> 0</td></tr>\n",
              "\t<tr><td> 2</td><td> 1</td><td> 97</td><td> 33</td><td> 1</td><td> 0.95</td><td> 6.5</td><td>0.5</td><td>0.5</td><td>2.34</td><td> 0</td><td>0.3</td><td>10.14</td><td> 1</td><td> 1</td><td> 0</td></tr>\n",
              "\t<tr><td> 2</td><td> 1</td><td> 74</td><td> 42</td><td> 1</td><td> 1.24</td><td> 6.5</td><td>0.5</td><td>0.5</td><td>0.00</td><td> 0</td><td>0.3</td><td> 7.80</td><td> 2</td><td> 1</td><td> 0</td></tr>\n",
              "\t<tr><td> 2</td><td> 1</td><td> 42</td><td>244</td><td> 1</td><td> 1.10</td><td> 7.0</td><td>0.5</td><td>0.5</td><td>0.00</td><td> 0</td><td>0.3</td><td> 8.30</td><td> 2</td><td> 1</td><td> 0</td></tr>\n",
              "</tbody>\n",
              "</table>\n"
            ],
            "text/markdown": "\nA matrix: 6 × 16 of type dbl\n\n| NA | NA |  NA |  NA | NA |    NA |   NA |  NA |  NA |   NA | NA |  NA |    NA | NA | NA | NA |\n|  1 |  1 |  74 | 168 |  1 |  1.20 |  6.0 | 0.5 | 0.5 | 0.00 |  0 | 0.3 |  7.30 |  2 |  1 |  0 |\n|  2 |  1 | 116 | 265 |  2 | 13.69 | 42.0 | 0.5 | 0.5 | 0.00 |  0 | 0.3 | 43.30 |  2 |  1 |  0 |\n|  2 |  1 |  97 |  33 |  1 |  0.95 |  6.5 | 0.5 | 0.5 | 2.34 |  0 | 0.3 | 10.14 |  1 |  1 |  0 |\n|  2 |  1 |  74 |  42 |  1 |  1.24 |  6.5 | 0.5 | 0.5 | 0.00 |  0 | 0.3 |  7.80 |  2 |  1 |  0 |\n|  2 |  1 |  42 | 244 |  1 |  1.10 |  7.0 | 0.5 | 0.5 | 0.00 |  0 | 0.3 |  8.30 |  2 |  1 |  0 |\n\n",
            "text/latex": "A matrix: 6 × 16 of type dbl\n\\begin{tabular}{llllllllllllllll}\n\t NA & NA &  NA &  NA & NA &    NA &   NA &  NA &  NA &   NA & NA &  NA &    NA & NA & NA & NA\\\\\n\t  1 &  1 &  74 & 168 &  1 &  1.20 &  6.0 & 0.5 & 0.5 & 0.00 &  0 & 0.3 &  7.30 &  2 &  1 &  0\\\\\n\t  2 &  1 & 116 & 265 &  2 & 13.69 & 42.0 & 0.5 & 0.5 & 0.00 &  0 & 0.3 & 43.30 &  2 &  1 &  0\\\\\n\t  2 &  1 &  97 &  33 &  1 &  0.95 &  6.5 & 0.5 & 0.5 & 2.34 &  0 & 0.3 & 10.14 &  1 &  1 &  0\\\\\n\t  2 &  1 &  74 &  42 &  1 &  1.24 &  6.5 & 0.5 & 0.5 & 0.00 &  0 & 0.3 &  7.80 &  2 &  1 &  0\\\\\n\t  2 &  1 &  42 & 244 &  1 &  1.10 &  7.0 & 0.5 & 0.5 & 0.00 &  0 & 0.3 &  8.30 &  2 &  1 &  0\\\\\n\\end{tabular}\n",
            "text/plain": [
              "     [,1] [,2] [,3] [,4] [,5] [,6]  [,7] [,8] [,9] [,10] [,11] [,12] [,13]\n",
              "[1,] NA   NA    NA   NA  NA      NA   NA  NA   NA    NA  NA     NA      NA\n",
              "[2,]  1    1    74  168   1    1.20  6.0 0.5  0.5  0.00   0    0.3    7.30\n",
              "[3,]  2    1   116  265   2   13.69 42.0 0.5  0.5  0.00   0    0.3   43.30\n",
              "[4,]  2    1    97   33   1    0.95  6.5 0.5  0.5  2.34   0    0.3   10.14\n",
              "[5,]  2    1    74   42   1    1.24  6.5 0.5  0.5  0.00   0    0.3    7.80\n",
              "[6,]  2    1    42  244   1    1.10  7.0 0.5  0.5  0.00   0    0.3    8.30\n",
              "     [,14] [,15] [,16]\n",
              "[1,] NA    NA    NA   \n",
              "[2,]  2     1     0   \n",
              "[3,]  2     1     0   \n",
              "[4,]  1     1     0   \n",
              "[5,]  2     1     0   \n",
              "[6,]  2     1     0   "
            ]
          },
          "metadata": {}
        }
      ]
    },
    {
      "cell_type": "code",
      "source": [
        "system.time(read.big.matrix(\"/content/Prac1b.csv\"))"
      ],
      "metadata": {
        "colab": {
          "base_uri": "https://localhost:8080/",
          "height": 156
        },
        "id": "aCn91BQteo4m",
        "outputId": "461cbdef-b99a-4d6e-913d-00c89ccaae0b"
      },
      "execution_count": null,
      "outputs": [
        {
          "output_type": "stream",
          "name": "stderr",
          "text": [
            "Warning message in na.omit(as.integer(firstLineVals)):\n",
            "“NAs introduced by coercion”\n",
            "Warning message in na.omit(as.double(firstLineVals)):\n",
            "“NAs introduced by coercion”\n",
            "Warning message in read.big.matrix(\"/content/Prac1b.csv\"):\n",
            "“Because type was not specified, we chose double based on the first line of data.”\n"
          ]
        },
        {
          "output_type": "display_data",
          "data": {
            "text/plain": [
              "   user  system elapsed \n",
              "  0.444   0.012   0.456 "
            ]
          },
          "metadata": {}
        }
      ]
    },
    {
      "cell_type": "code",
      "source": [
        "nrow(data)"
      ],
      "metadata": {
        "colab": {
          "base_uri": "https://localhost:8080/",
          "height": 34
        },
        "id": "KlTDb-1Ii84j",
        "outputId": "af871182-1762-4abe-8029-eb8e72ad3364"
      },
      "execution_count": null,
      "outputs": [
        {
          "output_type": "display_data",
          "data": {
            "text/html": [
              "83692"
            ],
            "text/markdown": "83692",
            "text/latex": "83692",
            "text/plain": [
              "[1] 83692"
            ]
          },
          "metadata": {}
        }
      ]
    },
    {
      "cell_type": "code",
      "source": [
        "ncol(data)"
      ],
      "metadata": {
        "colab": {
          "base_uri": "https://localhost:8080/",
          "height": 34
        },
        "id": "S8Id7Trui_LY",
        "outputId": "2f82a9d9-09f4-40d2-b1a3-0d17b7995191"
      },
      "execution_count": null,
      "outputs": [
        {
          "output_type": "display_data",
          "data": {
            "text/html": [
              "16"
            ],
            "text/markdown": "16",
            "text/latex": "16",
            "text/plain": [
              "[1] 16"
            ]
          },
          "metadata": {}
        }
      ]
    },
    {
      "cell_type": "code",
      "source": [
        "data <- na.omit(data)\n"
      ],
      "metadata": {
        "id": "wHUCQgvwmC5k"
      },
      "execution_count": null,
      "outputs": []
    },
    {
      "cell_type": "code",
      "source": [
        "# Calculate mean by index\n",
        "mean_value <- mean(data[, 3])\n",
        "median_value <- median(data[, 3])\n",
        "print(mean_value)\n",
        "# Calculate median by index\n",
        "print(median_value)"
      ],
      "metadata": {
        "colab": {
          "base_uri": "https://localhost:8080/"
        },
        "id": "4Z_Yf0O_jtgL",
        "outputId": "75cbb024-521c-4517-a201-750a56773718"
      },
      "execution_count": null,
      "outputs": [
        {
          "output_type": "stream",
          "name": "stdout",
          "text": [
            "[1] 98.78653\n",
            "[1] 75\n"
          ]
        }
      ]
    },
    {
      "cell_type": "code",
      "source": [
        "# Install and load the biglm package if not already installed\n",
        "install.packages(\"biglm\")\n",
        "library(biglm)\n",
        "\n",
        "# Generate some example data\n"
      ],
      "metadata": {
        "colab": {
          "base_uri": "https://localhost:8080/",
          "height": 245
        },
        "id": "m2522GVfo1Tk",
        "outputId": "c9dba768-bacb-42c7-f54c-28fef5b8e571"
      },
      "execution_count": null,
      "outputs": [
        {
          "output_type": "stream",
          "name": "stderr",
          "text": [
            "Installing package into ‘/usr/local/lib/R/site-library’\n",
            "(as ‘lib’ is unspecified)\n",
            "\n",
            "Loading required package: DBI\n",
            "\n"
          ]
        },
        {
          "output_type": "error",
          "ename": "ERROR",
          "evalue": "ignored",
          "traceback": [
            "Error in eval(expr, envir, enclos): object 'x1' not found\nTraceback:\n",
            "1. data.frame(x1 = rnorm(n), x2 = rnorm(n), y = 2 * x1 + 3 * x2 + \n .     rnorm(n))"
          ]
        }
      ]
    },
    {
      "cell_type": "code",
      "source": [
        "\n",
        "x1<-data[,3]\n",
        "x2<-data[,4]\n",
        "# Create the response variable y using x1 and x2\n",
        "data$y <- x1 + x2\n",
        "\n",
        "# Fit a linear model using biglm\n",
        "model <- biglm(y ~ x1 + x2, data = data)\n",
        "\n",
        "# Print summary of the model\n",
        "summary(model)"
      ],
      "metadata": {
        "colab": {
          "base_uri": "https://localhost:8080/",
          "height": 156
        },
        "id": "aF-P6d-opJ-V",
        "outputId": "29545b01-cad8-4072-afb5-8da081331667"
      },
      "execution_count": null,
      "outputs": [
        {
          "output_type": "stream",
          "name": "stderr",
          "text": [
            "Warning message in data$y <- x1 + x2:\n",
            "“Coercing LHS to a list”\n"
          ]
        },
        {
          "output_type": "display_data",
          "data": {
            "text/plain": [
              "Large data regression model: biglm(y ~ x1 + x2, data = data)\n",
              "Sample size =  83691 \n",
              "            Coef (95% CI) SE p\n",
              "(Intercept)    0    0   0  0 0\n",
              "x1             1    1   1  0 0\n",
              "x2             1    1   1  0 0"
            ]
          },
          "metadata": {}
        }
      ]
    }
  ]
}
