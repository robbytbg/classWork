{
  "nbformat": 4,
  "nbformat_minor": 0,
  "metadata": {
    "colab": {
      "provenance": [],
      "authorship_tag": "ABX9TyOSBJL8k/2F8PJQYFkRFSSD",
      "include_colab_link": true
    },
    "kernelspec": {
      "name": "ir",
      "display_name": "R"
    },
    "language_info": {
      "name": "R"
    }
  },
  "cells": [
    {
      "cell_type": "markdown",
      "metadata": {
        "id": "view-in-github",
        "colab_type": "text"
      },
      "source": [
        "<a href=\"https://colab.research.google.com/github/robbytbg/classWork/blob/main/BDO4.ipynb\" target=\"_parent\"><img src=\"https://colab.research.google.com/assets/colab-badge.svg\" alt=\"Open In Colab\"/></a>"
      ]
    },
    {
      "cell_type": "code",
      "execution_count": 1,
      "metadata": {
        "colab": {
          "base_uri": "https://localhost:8080/"
        },
        "id": "eibkCnFAt-HR",
        "outputId": "a8eba79b-5789-415f-b80f-f97f4129146f"
      },
      "outputs": [
        {
          "output_type": "stream",
          "name": "stdout",
          "text": [
            "gsearch best s: 401 401 401 401 501 f: 43142 time: 2.004 s\n"
          ]
        }
      ],
      "source": [
        "#full blind search method\n",
        "fsearch=function(search, FUN, type=\"min\",...)\n",
        "{ \t\tx=apply(search,1,FUN,...)\n",
        "# run FUN over all search rows\n",
        "ib=switch(type, min=which.min(x),max=which.max(x))\n",
        "return(list(index=ib, sol=search[ib,],eval=x[ib]))\n",
        "}\n",
        "\n",
        "#grid search method\n",
        "gsearch=function(step,lower,upper,FUN,type=\"min\",...)\n",
        "{\n",
        "  D=length(step) \t\t\t# dimension\n",
        "  domain=vector(\"list\",D)\t\t # domain values\n",
        "  L=vector(length=D)\t\t\t # auxiliary vector\n",
        "  for(i in 1:D)\n",
        "  {\n",
        "    domain[[i]]=seq(lower[i],upper[i],by=step[i])\n",
        "    L[i]=length(domain[[i]])\n",
        "  }\n",
        "  LS=prod(L)\n",
        "  s=matrix(ncol=D,nrow=LS) \t# set the search space\n",
        "  for(i in 1:D)\n",
        "  {\n",
        "    if(i==1) E=1\n",
        "    else E=E*L[i-1]\n",
        "    s[,i]=rep(domain[[i]],length.out=LS,each=E)\n",
        "  }\n",
        "  fsearch(s,FUN,type,...)\t\t\t # best solution\n",
        "}\n",
        "\n",
        "#sales function\n",
        "sales=function(x, A=1000,B=200,C=141, m=seq(2,length.out=length(x),by=-0.25))\n",
        "{\n",
        "  return(round(m*(A/log(x+B)-C),digits=0))\n",
        "}\n",
        "\n",
        "#cost function\n",
        "cost=function(units,A=100,cpu=35-5*(1:length(units)))\n",
        "{\n",
        "  return(A+cpu*units)\n",
        "}\n",
        "\n",
        "#profit function\n",
        "profit=function(x) \t\t#x-a vector of prices\n",
        "{ x=round(x,digits=0) \t# convert x into integer\n",
        "s=sales(x) \t\t\t# get the expected sales\n",
        "c=cost(s) \t\t\t# get the expected cost\n",
        "profit=sum(s*x-c)\t\t # compute the profit\n",
        "return(profit)\n",
        "# local variables x, s, c and profit are lost from here\n",
        "}\n",
        "\n",
        "#bag prices problem using grid dearch\n",
        "PTM=proc.time() \t\t\t# start clock\n",
        "S1=gsearch(rep(100,5),rep(1,5),rep(1000,5),profit,\"max\")\n",
        "sec=(proc.time()-PTM)[3] \t# get seconds elapsed\n",
        "cat(\"gsearch best s:\",S1$sol,\"f:\",S1$eval,\"time:\",sec,\"s\\n\")"
      ]
    },
    {
      "cell_type": "code",
      "source": [
        "#full blind search method\n",
        "fsearch=function(search, FUN, type=\"min\",...)\n",
        "{ \t\tx=apply(search,1,FUN,...)\n",
        "# run FUN over all search rows\n",
        "ib=switch(type, min=which.min(x),max=which.max(x))\n",
        "return(list(index=ib, sol=search[ib,],eval=x[ib]))\n",
        "}\n",
        "\n",
        "#grid search method\n",
        "gsearch=function(step,lower,upper,FUN,type=\"min\",...)\n",
        "{\n",
        "  D=length(step) \t\t\t# dimension\n",
        "  domain=vector(\"list\",D)\t\t # domain values\n",
        "  L=vector(length=D)\t\t\t # auxiliary vector\n",
        "  for(i in 1:D)\n",
        "  {\n",
        "    domain[[i]]=seq(lower[i],upper[i],by=step[i])\n",
        "    L[i]=length(domain[[i]])\n",
        "  }\n",
        "  LS=prod(L)\n",
        "  s=matrix(ncol=D,nrow=LS) \t# set the search space\n",
        "  for(i in 1:D)\n",
        "  {\n",
        "    if(i==1) E=1\n",
        "    else E=E*L[i-1]\n",
        "    s[,i]=rep(domain[[i]],length.out=LS,each=E)\n",
        "  }\n",
        "  fsearch(s,FUN,type,...)\t\t\t # best solution\n",
        "}\n",
        "\n",
        "\n",
        "# real-value function: sphere\n",
        "sphere=function(x) sum(x^2)\n",
        "cat(\"sphere:\\n\") \t\t\t\t# D=2, easy task\n",
        "\n",
        "#sphere problem using grid search\n",
        "S=gsearch(rep(1.1,2),rep(-5.2,2),rep(5.2,2),sphere,\"min\")\n",
        "cat(\"gsearch s:\",S$sol,\"f:\",S$eval,\"\\n\")"
      ],
      "metadata": {
        "colab": {
          "base_uri": "https://localhost:8080/"
        },
        "id": "QzAse-30uXXV",
        "outputId": "c709171c-dafe-49e2-e8df-8e7b46d01c1a"
      },
      "execution_count": 2,
      "outputs": [
        {
          "output_type": "stream",
          "name": "stdout",
          "text": [
            "sphere:\n",
            "gsearch s: 0.3 0.3 f: 0.18 \n"
          ]
        }
      ]
    },
    {
      "cell_type": "code",
      "source": [
        "#nested grid search\n",
        "ngsearch=function(levels,step,lower,upper,FUN,type,...)\n",
        "{\n",
        "  stop=FALSE;\n",
        "  i=1 \t\t\t# auxiliary objects\n",
        "  bcur=switch(type,min=list(sol=NULL,eval=Inf),max=list(sol=NULL,eval=-Inf))\n",
        "\n",
        "  while(!stop) \t\t# cycle while stopping criteria is not met\n",
        "  {\n",
        "     s=gsearch(step,lower,upper,FUN,type,...)\n",
        "    # if needed, update best current solution:\n",
        "\n",
        "    if((type==\"min\" && s$eval<bcur$eval)||(type==\"max\" && s$eval > bcur$eval))\n",
        "      bcur=s\n",
        "    if(i<levels) \t\t\t#update step, lower and upper\n",
        "    {\n",
        "        step=step/2\n",
        "        interval=(upper-lower)/4\n",
        "        lower=sapply(lower,max,s$sol-interval)\n",
        "        upper=sapply(upper,min,s$sol+interval)\n",
        "    }\n",
        "    if((i>=levels)||(sum((upper-lower)<=step)>0)) stop=TRUE\n",
        "    else i=i+1\n",
        "  }\n",
        "  return(bcur) \t\t\t# best solution\n",
        "}\n",
        "\n",
        "\n",
        "#sphere problem using nested grid search\n",
        "S=ngsearch(3,rep(3,2),rep(-5.2,2),rep(5.2,2),sphere,\"min\")\n",
        "cat(\"ngsearch s:\",S$sol,\"f:\",S$eval,\"\\n\")"
      ],
      "metadata": {
        "colab": {
          "base_uri": "https://localhost:8080/"
        },
        "id": "_uqHHibTugmn",
        "outputId": "429df6ff-a531-4786-da6d-dfa9ead1661b"
      },
      "execution_count": 3,
      "outputs": [
        {
          "output_type": "stream",
          "name": "stdout",
          "text": [
            "ngsearch s: -0.1 -0.1 f: 0.02 \n"
          ]
        }
      ]
    },
    {
      "cell_type": "code",
      "source": [
        "# real-value functions: rastrigin\n",
        "rastrigin=function(x) 10*length(x)+sum(x^2-10*cos(2*pi*x))\n",
        "\n",
        "#Rastrigin problem using grid search\n",
        "#load full blind search method\n",
        "#load grid search method\n",
        "cat(\"rastrigin:\\n\") \t\t\t\t# D=2, easy task\n",
        "\n",
        "S=gsearch(rep(1.1,2),rep(-5.2,2),rep(5.2,2),rastrigin,\"min\")\n",
        "cat(\"gsearch s:\",S$sol,\"f:\",S$eval,\"\\n\")"
      ],
      "metadata": {
        "colab": {
          "base_uri": "https://localhost:8080/"
        },
        "id": "7e9DvQdcuoKv",
        "outputId": "577aab3f-33ff-4e0c-fcbc-5694f5764133"
      },
      "execution_count": 4,
      "outputs": [
        {
          "output_type": "stream",
          "name": "stdout",
          "text": [
            "rastrigin:\n",
            "gsearch s: -1.9 -1.9 f: 11.03966 \n"
          ]
        }
      ]
    },
    {
      "cell_type": "code",
      "source": [
        "#Rastrigin problem using nested grid search\n",
        "#load full blind search method\n",
        "#load grid search method\n",
        "#load nested grid search method\n",
        "S=ngsearch(3,rep(3,2),rep(-5.2,2),rep(5.2,2),rastrigin,\"min\")\n",
        "cat(\"ngsearch s:\",S$sol,\"f:\",S$eval,\"\\n\")"
      ],
      "metadata": {
        "colab": {
          "base_uri": "https://localhost:8080/"
        },
        "id": "pmoZWIdKuxbM",
        "outputId": "8c588d4e-8f6e-4bab-c3b4-bdd326e9ff1a"
      },
      "execution_count": 5,
      "outputs": [
        {
          "output_type": "stream",
          "name": "stdout",
          "text": [
            "ngsearch s: -0.1 -0.1 f: 3.83966 \n"
          ]
        }
      ]
    }
  ]
}