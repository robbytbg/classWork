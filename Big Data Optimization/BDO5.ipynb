{
  "nbformat": 4,
  "nbformat_minor": 0,
  "metadata": {
    "colab": {
      "provenance": [],
      "authorship_tag": "ABX9TyPZYxtjwt/jFbPTwjtoJEVA",
      "include_colab_link": true
    },
    "kernelspec": {
      "name": "ir",
      "display_name": "R"
    },
    "language_info": {
      "name": "R"
    }
  },
  "cells": [
    {
      "cell_type": "markdown",
      "metadata": {
        "id": "view-in-github",
        "colab_type": "text"
      },
      "source": [
        "<a href=\"https://colab.research.google.com/github/robbytbg/classWork/blob/main/BDO5.ipynb\" target=\"_parent\"><img src=\"https://colab.research.google.com/assets/colab-badge.svg\" alt=\"Open In Colab\"/></a>"
      ]
    },
    {
      "cell_type": "code",
      "execution_count": 2,
      "metadata": {
        "colab": {
          "base_uri": "https://localhost:8080/"
        },
        "id": "numipQPRu61U",
        "outputId": "a6b12876-6e2e-411b-a370-1b07cf203ba5"
      },
      "outputs": [
        {
          "output_type": "stream",
          "name": "stdout",
          "text": [
            "monte carlo search (N: 10000 )\n",
            "bag prices:s: 388.2068 452.3798 439.2778 342.1196 305.2809 f: 42670 \n"
          ]
        }
      ],
      "source": [
        "#full blind search method\n",
        "fsearch=function(search, FUN, type=\"min\",...)\n",
        "{\n",
        "  x=apply(search,1,FUN,...)\n",
        "  # run FUN over all search rows\n",
        "  ib=switch(type, min=which.min(x),max=which.max(x))\n",
        "  return(list(index=ib, sol=search[ib,],eval=x[ib]))\n",
        "}\n",
        "\n",
        "#monte carlo search method\n",
        "mcsearch=function(N,lower,upper,FUN,type=\"min\",...)\n",
        "{\n",
        "  D=length(lower)\n",
        "  s=matrix(nrow=N,ncol=D)\n",
        "  # set the search space\n",
        "  for(i in 1:N)\n",
        "    s[i,]=runif(D,lower,upper)\n",
        "  fsearch(s,FUN,type,...) # best solution\n",
        "}\n",
        "\n",
        "#sales function\n",
        "sales=function(x, A=1000,B=200,C=141, m=seq(2,length.out=length(x),by=-0.25))\n",
        " {\n",
        "    return(round(m*(A/log(x+B)-C),digits=0))\n",
        "  }\n",
        "\n",
        "#cost function\n",
        "cost=function(units,A=100,cpu=35-5*(1:length(units)))\n",
        "  {\n",
        "    return(A+cpu*units)\n",
        "  }\n",
        "\n",
        "#profit function\n",
        "profit=function(x) #x-a vector of prices\n",
        "{ x=round(x,digits=0) # convert x into integer\n",
        "s=sales(x) # get the expected sales\n",
        "c=cost(s) # get the expected cost\n",
        "profit=sum(s*x-c) # compute the profit\n",
        "return(profit) # local variables x, s, c and profit are lost from here\n",
        "}\n",
        "\n",
        "N=10000   # set the number of samples\n",
        "cat(\"monte carlo search (N:\",N,\")\\n\") # bag prices\n",
        "cat(\"bag prices:\")\n",
        "S=mcsearch(N,rep(1,5),rep(1000,5),profit,\"max\")\n",
        "cat(\"s:\",S$sol,\"f:\",S$eval,\"\\n\")"
      ]
    },
    {
      "cell_type": "code",
      "source": [
        "#full blind search method\n",
        "fsearch=function(search, FUN, type=\"min\",...)\n",
        "{\n",
        "  x=apply(search,1,FUN,...)\n",
        "  # run FUN over all search rows\n",
        "  ib=switch(type, min=which.min(x),max=which.max(x))\n",
        "  return(list(index=ib, sol=search[ib,],eval=x[ib]))\n",
        "}\n",
        "\n",
        "#monte carlo search method\n",
        "mcsearch=function(N,lower,upper,FUN,type=\"min\",...)\n",
        "{\n",
        "  D=length(lower)\n",
        "  s=matrix(nrow=N,ncol=D)\n",
        "  # set the search space\n",
        "  for(i in 1:N)\n",
        "    s[i,]=runif(D,lower,upper)\n",
        "  fsearch(s,FUN,type,...) # best solution\n",
        "}\n",
        "\n",
        "# real-value function sphere:\n",
        "sphere=function(x) sum(x^2)\n",
        "\n",
        "D=c(2,30)\n",
        "label=\"sphere\"\n",
        "for(i in 1:length(D))\n",
        "{ \tS=mcsearch(N,rep(-5.2,D[i]),rep(5.2,D[i]),sphere,\"min\")\n",
        "    cat(label,\"D:\",D[i],\"s:\",S$sol[1:2],\"f:\",S$eval,\"\\n\")\n",
        "}"
      ],
      "metadata": {
        "colab": {
          "base_uri": "https://localhost:8080/"
        },
        "id": "pUbI9W4nvPf0",
        "outputId": "4597d49c-5d89-4ff6-b9e5-33291fb93e0d"
      },
      "execution_count": 3,
      "outputs": [
        {
          "output_type": "stream",
          "name": "stdout",
          "text": [
            "sphere D: 2 s: 0.0324525 -0.03494831 f: 0.002274549 \n",
            "sphere D: 30 s: -3.144412 2.275363 f: 112.1934 \n"
          ]
        }
      ]
    },
    {
      "cell_type": "code",
      "source": [
        "# real-value function rastrigin:\n",
        "rastrigin=function(x) 10*length(x)+sum(x^2-10*cos(2*pi*x))\n",
        "\n",
        "label=\"rastrigin\"\n",
        "for(i in 1:length(D))\n",
        "{ \tS=mcsearch(N,rep(-5.2,D[i]),rep(5.2,D[i]),rastrigin,\"min\")\n",
        "cat(label,\"D:\",D[i],\"s:\",S$sol[1:2],\"f:\",S$eval,\"\\n\")\n",
        "}"
      ],
      "metadata": {
        "colab": {
          "base_uri": "https://localhost:8080/"
        },
        "id": "ZoOyGeSjvh25",
        "outputId": "55c295d0-d89a-40d8-fe7a-f9a7dbc43dc2"
      },
      "execution_count": 4,
      "outputs": [
        {
          "output_type": "stream",
          "name": "stdout",
          "text": [
            "rastrigin D: 2 s: -0.04810276 0.01889457 f: 0.5263324 \n",
            "rastrigin D: 30 s: 1.269713 2.468998 f: 354.851 \n"
          ]
        }
      ]
    }
  ]
}
