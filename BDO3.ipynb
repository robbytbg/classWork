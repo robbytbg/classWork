{
  "nbformat": 4,
  "nbformat_minor": 0,
  "metadata": {
    "colab": {
      "provenance": [],
      "authorship_tag": "ABX9TyMbj78UPPddD9ASjjN+bAeH",
      "include_colab_link": true
    },
    "kernelspec": {
      "name": "ir",
      "display_name": "R"
    },
    "language_info": {
      "name": "R"
    }
  },
  "cells": [
    {
      "cell_type": "markdown",
      "metadata": {
        "id": "view-in-github",
        "colab_type": "text"
      },
      "source": [
        "<a href=\"https://colab.research.google.com/github/robbytbg/classWork/blob/main/BDO3.ipynb\" target=\"_parent\"><img src=\"https://colab.research.google.com/assets/colab-badge.svg\" alt=\"Open In Colab\"/></a>"
      ]
    },
    {
      "cell_type": "code",
      "source": [
        "# Function to perform Depth First Search\n",
        "dfs <- function(graph, start_node) {\n",
        "  # Number of nodes in the graph\n",
        "  num_nodes <- nrow(graph)\n",
        "\n",
        "  # Initialize visited nodes as a logical vector\n",
        "  visited <- rep(FALSE, num_nodes)\n",
        "\n",
        "  # Recursive function to perform DFS\n",
        "  dfs_recursive <- function(node) {\n",
        "    # Mark the current node as visited\n",
        "    visited[node] <- TRUE\n",
        "\n",
        "    # Print the visited node (you can customize this part as needed)\n",
        "    cat(\"Visited Node:\", node, \"\\n\")\n",
        "\n",
        "    # Get neighbors of the current node\n",
        "    neighbors <- which(graph[node, ] == 1)\n",
        "\n",
        "    # Visit unvisited neighbors\n",
        "    for (neighbor in neighbors) {\n",
        "      if (!visited[neighbor]) {\n",
        "        dfs_recursive(neighbor)\n",
        "      }\n",
        "    }\n",
        "  }\n",
        "\n",
        "  # Start DFS from the specified node\n",
        "  dfs_recursive(start_node)\n",
        "}\n",
        "graph <- matrix(c(\n",
        "  0, 1, 1, 0, 0, 0, 0, 0, 0, 0, 0, 0, 0, 0, 0,\n",
        "  0, 0, 0, 1, 1, 0, 0, 0, 0, 0, 0, 0, 0, 0, 0,\n",
        "  0, 0, 0, 0, 0, 1, 0, 0, 0, 0, 0, 0, 0, 0, 0,\n",
        "  0, 0, 0, 0, 0, 1, 1, 0, 0, 0, 0, 0, 0, 0, 0,\n",
        "  0, 0, 0, 0, 0, 0, 0, 1, 1, 0, 0, 0, 0, 0, 0,\n",
        "  0, 0, 0, 0, 0, 0, 0, 0, 0, 1, 0, 0, 0, 0, 0,\n",
        "  0, 0, 0, 0, 0, 0, 0, 0, 0, 0, 1, 1, 0, 0, 0,\n",
        "  0, 0, 0, 0, 0, 0, 0, 0, 0, 0, 0, 1, 1, 0, 0,\n",
        "  0, 0, 0, 0, 0, 0, 0, 0, 0, 0, 0, 0, 0, 1, 0,\n",
        "  0, 0, 0, 0, 0, 0, 0, 0, 0, 0, 0, 0, 0, 1, 1,\n",
        "  0, 0, 0, 0, 0, 0, 0, 0, 0, 0, 0, 0, 0, 0, 1,\n",
        "  0, 0, 0, 0, 0, 0, 0, 0, 0, 0, 0, 0, 0, 0, 1,\n",
        "  0, 0, 0, 0, 0, 0, 0, 0, 0, 0, 0, 0, 0, 0, 0,\n",
        "  0, 0, 0, 0, 0, 0, 0, 0, 0, 0, 0, 0, 0, 0, 0,\n",
        "  0, 0, 0, 0, 0, 0, 0, 0, 0, 0, 0, 0, 0, 0, 0\n",
        "), nrow = 15, byrow = TRUE)\n",
        "dfs(graph, 1)"
      ],
      "metadata": {
        "colab": {
          "base_uri": "https://localhost:8080/"
        },
        "id": "uwY_Ed0itCyt",
        "outputId": "ce143fc9-c80c-4069-fcc8-38d6be4980cc"
      },
      "execution_count": null,
      "outputs": [
        {
          "output_type": "stream",
          "name": "stdout",
          "text": [
            "Visited Node: 1 \n",
            "Visited Node: 2 \n",
            "Visited Node: 4 \n",
            "Visited Node: 6 \n",
            "Visited Node: 10 \n",
            "Visited Node: 14 \n",
            "Visited Node: 15 \n",
            "Visited Node: 7 \n",
            "Visited Node: 11 \n",
            "Visited Node: 15 \n",
            "Visited Node: 12 \n",
            "Visited Node: 15 \n",
            "Visited Node: 5 \n",
            "Visited Node: 8 \n",
            "Visited Node: 12 \n",
            "Visited Node: 15 \n",
            "Visited Node: 13 \n",
            "Visited Node: 9 \n",
            "Visited Node: 14 \n",
            "Visited Node: 3 \n",
            "Visited Node: 6 \n",
            "Visited Node: 10 \n",
            "Visited Node: 14 \n",
            "Visited Node: 15 \n"
          ]
        }
      ]
    },
    {
      "cell_type": "code",
      "source": [
        "# Function to perform Depth First Search (DFS) recursively\n",
        "dfs <- function(graph, start, visited) {\n",
        "  cat(start, \" \")  # Print the current node\n",
        "  visited[start] <- TRUE  # Mark the current node as visited\n",
        "\n",
        "  # Iterate through adjacent nodes\n",
        "  for (neighbor in graph[[start]]) {\n",
        "    # If the neighbor is not visited, recursively call DFS on it\n",
        "    if (!visited[neighbor]) {\n",
        "      dfs(graph, neighbor, visited)\n",
        "    }\n",
        "  }\n",
        "}\n",
        "\n",
        "# Function to initiate DFS on a graph\n",
        "dfs_main <- function(graph) {\n",
        "  num_nodes <- length(graph)\n",
        "  visited <- rep(FALSE, num_nodes)  # Initialize visited array\n",
        "\n",
        "  # Call DFS for each unvisited node\n",
        "  for (node in 1:num_nodes) {\n",
        "    if (!visited[node]) {\n",
        "      cat(\"DFS starting from node\", node, \":\\n\")\n",
        "      dfs(graph, node, visited)\n",
        "      cat(\"\\n\")\n",
        "    }\n",
        "  }\n",
        "}\n",
        "\n",
        "# Example graph represented as an adjacency list\n",
        "# Replace this with your actual graph\n",
        "graph <- list(\n",
        "  c(2, 3),     # Node 1 is connected to nodes 2 and 3\n",
        "  c(1, 4, 5),   # Node 2 is connected to nodes 1, 4, and 5\n",
        "  c(1, 6, 7),   # Node 3 is connected to nodes 1, 6, and 7\n",
        "  c(2),         # Node 4 is connected to node 2\n",
        "  c(2),         # Node 5 is connected to node 2\n",
        "  c(3),         # Node 6 is connected to node 3\n",
        "  c(3)          # Node 7 is connected to node 3\n",
        "  # Add more connections as needed\n",
        ")\n",
        "\n",
        "# Call DFS on the example graph\n",
        "dfs_main(graph)"
      ],
      "metadata": {
        "colab": {
          "base_uri": "https://localhost:8080/"
        },
        "id": "wc4018rTtx58",
        "outputId": "4d5b435c-f66f-4826-a134-fc899feffca4"
      },
      "execution_count": null,
      "outputs": [
        {
          "output_type": "stream",
          "name": "stdout",
          "text": [
            "DFS starting from node 1 :\n",
            "1  2  4  5  3  6  7  \n",
            "DFS starting from node 2 :\n",
            "2  1  3  6  7  4  5  \n",
            "DFS starting from node 3 :\n",
            "3  1  2  4  5  6  7  \n",
            "DFS starting from node 4 :\n",
            "4  2  1  3  6  7  5  \n",
            "DFS starting from node 5 :\n",
            "5  2  1  3  6  7  4  \n",
            "DFS starting from node 6 :\n",
            "6  3  1  2  4  5  7  \n",
            "DFS starting from node 7 :\n",
            "7  3  1  2  4  5  6  \n"
          ]
        }
      ]
    },
    {
      "cell_type": "code",
      "execution_count": null,
      "metadata": {
        "colab": {
          "base_uri": "https://localhost:8080/"
        },
        "id": "w7wPYpgdqbNX",
        "outputId": "c4ed613b-f074-4f36-dd0b-68218be35bc1"
      },
      "outputs": [
        {
          "output_type": "stream",
          "name": "stdout",
          "text": [
            "Selected Items:  \n"
          ]
        }
      ],
      "source": [
        "# Function to perform depth-first full search for Knapsack problem\n",
        "knapsack_dfs <- function(weights, values, max_weight, current_weight, current_value, selected_items, best_value, best_selection) {\n",
        "  if (current_weight > max_weight) {\n",
        "    return\n",
        "  }\n",
        "\n",
        "  if (current_value > best_value) {\n",
        "    best_value <<- current_value\n",
        "    best_selection <<- selected_items\n",
        "  }\n",
        "\n",
        "  for (i in 1:length(weights)) {\n",
        "    if (!(i %in% selected_items)) {\n",
        "      selected_items <- c(selected_items, i)\n",
        "      knapsack_dfs(weights, values, max_weight, current_weight + weights[i], current_value + values[i], selected_items, best_value, best_selection)\n",
        "      selected_items <- selected_items[-length(selected_items)]\n",
        "    }\n",
        "  }\n",
        "\n",
        "  return(best_selection)\n",
        "}\n",
        "\n",
        "# Example Usage:\n",
        "weights <- c(2, 3, 5, 7)\n",
        "values <- c(1, 4, 7, 10)\n",
        "max_weight <- 10\n",
        "best_selection <- knapsack_dfs(weights, values, max_weight, 0, 0, integer(0), 0, integer(0))\n",
        "cat(\"Selected Items:\", best_selection, \"\\n\")\n"
      ]
    }
  ]
}