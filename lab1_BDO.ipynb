{
  "nbformat": 4,
  "nbformat_minor": 0,
  "metadata": {
    "colab": {
      "provenance": [],
      "authorship_tag": "ABX9TyNVFTY7bVdRsmMnQ4eeDwVK",
      "include_colab_link": true
    },
    "kernelspec": {
      "name": "ir",
      "display_name": "R"
    },
    "language_info": {
      "name": "R"
    }
  },
  "cells": [
    {
      "cell_type": "markdown",
      "metadata": {
        "id": "view-in-github",
        "colab_type": "text"
      },
      "source": [
        "<a href=\"https://colab.research.google.com/github/robbytbg/classWork/blob/main/lab1_BDO.ipynb\" target=\"_parent\"><img src=\"https://colab.research.google.com/assets/colab-badge.svg\" alt=\"Open In Colab\"/></a>"
      ]
    },
    {
      "cell_type": "code",
      "source": [
        "install.packages(\"pracma\", reinstall = TRUE)\n"
      ],
      "metadata": {
        "colab": {
          "base_uri": "https://localhost:8080/"
        },
        "id": "KmbtCWN94KTl",
        "outputId": "08cf1425-b6d7-4732-8c8a-d26efc052ff6"
      },
      "execution_count": null,
      "outputs": [
        {
          "output_type": "stream",
          "name": "stderr",
          "text": [
            "Installing package into ‘/usr/local/lib/R/site-library’\n",
            "(as ‘lib’ is unspecified)\n",
            "\n"
          ]
        }
      ]
    },
    {
      "cell_type": "code",
      "execution_count": null,
      "metadata": {
        "colab": {
          "base_uri": "https://localhost:8080/"
        },
        "id": "XbjfwbiI3J6p",
        "outputId": "68e3d6d0-e978-481f-e3d1-a4073fb16013"
      },
      "outputs": [
        {
          "output_type": "stream",
          "name": "stdout",
          "text": [
            "Even Matrix:\n",
            "     [,1] [,2] [,3]\n",
            "[1,]   16   11   12\n",
            "[2,]   15    3    6\n",
            "[3,]    4    7    5\n",
            "\n",
            "Odd Matrix:\n",
            "     [,1] [,2] [,3]\n",
            "[1,]   14   13   10\n",
            "[2,]    5    3    7\n",
            "[3,]    9    8   16\n",
            "\n",
            "Addition Matrix:\n",
            "     [,1] [,2] [,3]\n",
            "[1,]   30   24   22\n",
            "[2,]   20    6   13\n",
            "[3,]   13   15   21\n",
            "\n",
            "Subtraction Matrix:\n",
            "     [,1] [,2] [,3]\n",
            "[1,]    2   -2    2\n",
            "[2,]   10    0   -1\n",
            "[3,]   -5   -1  -11\n",
            "\n",
            "Multiplication Matrix:\n",
            "     [,1] [,2] [,3]\n",
            "[1,]  387  337  429\n",
            "[2,]  279  252  267\n",
            "[3,]  136  113  169\n",
            "\n",
            "Even Transpose:\n",
            "     [,1] [,2] [,3]\n",
            "[1,]   16   15    4\n",
            "[2,]   11    3    7\n",
            "[3,]   12    6    5\n",
            "\n",
            "Odd Transpose:\n",
            "     [,1] [,2] [,3]\n",
            "[1,]   14    5    9\n",
            "[2,]   13    3    8\n",
            "[3,]   10    7   16\n",
            "\n",
            "Determinant of Even Matrix: 123\n",
            "Determinant of Odd Matrix: -203\n",
            "Inverse of Even Matrix:\n",
            "           [,1]       [,2]       [,3]\n",
            "[1,] -0.2195122  0.2357724  0.2439024\n",
            "[2,] -0.4146341  0.2601626  0.6829268\n",
            "[3,]  0.7560976 -0.5528455 -0.9512195\n",
            "\n",
            "Inverse of Odd Matrix:\n",
            "            [,1]        [,2]       [,3]\n",
            "[1,]  0.03940887  0.63054187 -0.3004926\n",
            "[2,]  0.08374384 -0.66009852  0.2364532\n",
            "[3,] -0.06403941 -0.02463054  0.1133005\n"
          ]
        }
      ],
      "source": [
        "# Set seed for reproducibility\n",
        "set.seed(123)\n",
        "\n",
        "# Create two matrices\n",
        "even_matrix <- matrix(sample(2:20, 9, replace = FALSE), nrow = 3)\n",
        "odd_matrix <- matrix(sample(1:19, 9, replace = FALSE), nrow = 3)\n",
        "\n",
        "# Print the matrices\n",
        "cat(\"Even Matrix:\\n\")\n",
        "print(even_matrix)\n",
        "\n",
        "cat(\"\\nOdd Matrix:\\n\")\n",
        "print(odd_matrix)\n",
        "\n",
        "# Matrix addition\n",
        "addition_matrix <- even_matrix + odd_matrix\n",
        "\n",
        "# Print the addition matrix\n",
        "cat(\"\\nAddition Matrix:\\n\")\n",
        "print(addition_matrix)\n",
        "\n",
        "# Matrix subtraction\n",
        "subtraction_matrix <- even_matrix - odd_matrix\n",
        "\n",
        "# Print the subtraction matrix\n",
        "cat(\"\\nSubtraction Matrix:\\n\")\n",
        "print(subtraction_matrix)\n",
        "\n",
        "# Matrix multiplication\n",
        "multiplication_matrix <- even_matrix %*% odd_matrix\n",
        "\n",
        "# Print the multiplication matrix\n",
        "cat(\"\\nMultiplication Matrix:\\n\")\n",
        "print(multiplication_matrix)\n",
        "\n",
        "# Transpose of matrices\n",
        "even_transpose <- t(even_matrix)\n",
        "odd_transpose <- t(odd_matrix)\n",
        "\n",
        "# Print the transposed matrices\n",
        "cat(\"\\nEven Transpose:\\n\")\n",
        "print(even_transpose)\n",
        "\n",
        "cat(\"\\nOdd Transpose:\\n\")\n",
        "print(odd_transpose)\n",
        "\n",
        "# Check determinant\n",
        "library(pracma)  # Use pracma package instead of MASS\n",
        "\n",
        "even_det <- det(even_matrix)\n",
        "odd_det <- det(odd_matrix)\n",
        "\n",
        "# Print the determinants\n",
        "cat(\"\\nDeterminant of Even Matrix:\", even_det)\n",
        "cat(\"\\nDeterminant of Odd Matrix:\", odd_det)\n",
        "\n",
        "# Check for inverses\n",
        "# Print matrix inverses\n",
        "\n",
        "if (even_det != 0) {\n",
        "  even_inverse <- solve(even_matrix)\n",
        "  cat(\"\\nInverse of Even Matrix:\\n\")\n",
        "  print(even_inverse)\n",
        "} else {\n",
        "  cat(\"\\nEven matrix has no inverse as its determinant is zero.\")\n",
        "}\n",
        "\n",
        "if (odd_det != 0) {\n",
        "  odd_inverse <- solve(odd_matrix)  # Use solve function for potentially invertible odd matrix\n",
        "  cat(\"\\nInverse of Odd Matrix:\\n\")\n",
        "  print(odd_inverse)\n",
        "} else {\n",
        "  # If determinant is zero, check for generalized inverse using other packages\n",
        "  if (require(matrixcalc)) {\n",
        "    odd_inverse <- ginv(odd_matrix)\n",
        "    cat(\"\\nGeneralized Inverse of Odd Matrix:\\n\")\n",
        "    print(odd_inverse)\n",
        "  } else {\n",
        "    cat(\"\\nOdd matrix has no inverse (or generalized inverse) as its determinant is zero.\")\n",
        "  }\n",
        "}\n",
        "\n"
      ]
    },
    {
      "cell_type": "code",
      "source": [
        "sum_of_natural_numbers <- function(n) {\n",
        "  if (n == 1) {\n",
        "    return(1)\n",
        "  } else {\n",
        "    return(n + sum_of_natural_numbers(n-1))\n",
        "  }\n",
        "}\n",
        "fibonacci <- function(n) {\n",
        "  if (n <= 2) {\n",
        "    return(1)\n",
        "  } else {\n",
        "    return(fibonacci(n-1) + fibonacci(n-2))\n",
        "  }\n",
        "}\n",
        "\n",
        "print_fibonacci_series <- function(n) {\n",
        "  for (i in 1:n) {\n",
        "    cat(fibonacci(i), \" \")\n",
        "  }\n",
        "  cat(\"\\n\")\n",
        "}\n",
        "# Find the sum of the first 10 natural numbers\n",
        "sum <- sum_of_natural_numbers(10)\n",
        "cat(\"Sum of first 10 natural numbers:\", sum, \"\\n\")\n",
        "\n",
        "# Print the first 20 Fibonacci numbers\n",
        "print_fibonacci_series(20)\n"
      ],
      "metadata": {
        "colab": {
          "base_uri": "https://localhost:8080/"
        },
        "id": "M24-855l8wTC",
        "outputId": "740b6fd6-08f4-42e0-a27f-0438a5f2eeba"
      },
      "execution_count": null,
      "outputs": [
        {
          "output_type": "stream",
          "name": "stdout",
          "text": [
            "Sum of first 10 natural numbers: 55 \n",
            "1  1  2  3  5  8  13  21  34  55  89  144  233  377  610  987  1597  2584  4181  6765  \n"
          ]
        }
      ]
    },
    {
      "cell_type": "code",
      "source": [
        "# Define the function to partition the data\n",
        "partition <- function(data, low, high) {\n",
        "  pivot <- data[high]\n",
        "  i <- low - 1\n",
        "  for (j in low:(high - 1)) {\n",
        "    if (data[j] <= pivot) {\n",
        "      i <- i + 1\n",
        "      temp <- data[i]\n",
        "      data[i] <- data[j]\n",
        "      data[j] <- temp\n",
        "    }\n",
        "  }\n",
        "  temp <- data[i + 1]\n",
        "  data[i + 1] <- data[high]\n",
        "  data[high] <- temp\n",
        "  return(i + 1)\n",
        "}\n",
        "\n",
        "# Define the Quick Sort function\n",
        "quick_sort <- function(data, low, high) {\n",
        "  if (low < high) {\n",
        "    pi <- partition(data, low, high)\n",
        "    quick_sort(data, low, pi - 1)\n",
        "    quick_sort(data, pi + 1, high)\n",
        "  }\n",
        "}\n",
        "\n",
        "# Data to be sorted\n",
        "data <- c(5, 4, 12, 13, 3, 8, 88)\n",
        "\n",
        "# Sort the data\n",
        "quick_sort(data, 1, length(data))\n",
        "\n",
        "# Print the sorted data\n",
        "cat(\"Sorted data:\", data)\n"
      ],
      "metadata": {
        "id": "Q71wepSQ9Wh_",
        "outputId": "d7bb2a25-3555-4155-c084-437b8abe723c",
        "colab": {
          "base_uri": "https://localhost:8080/"
        }
      },
      "execution_count": null,
      "outputs": [
        {
          "output_type": "stream",
          "name": "stdout",
          "text": [
            "Sorted data: 5 4 12 13 3 8 88"
          ]
        }
      ]
    }
  ]
}